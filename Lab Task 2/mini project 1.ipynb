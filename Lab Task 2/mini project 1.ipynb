{
 "cells": [
  {
   "cell_type": "code",
   "execution_count": 6,
   "id": "41a56c6a",
   "metadata": {},
   "outputs": [
    {
     "name": "stdout",
     "output_type": "stream",
     "text": [
      "\n",
      "--- Round 1 ---\n",
      "Computer chose: 15\n",
      "Sum = 15 + 3 = 18\n",
      "Fizz\n",
      "\n",
      "--- Round 2 ---\n",
      "Computer chose: 11\n",
      "Sum = 11 + 6 = 17\n",
      "17\n",
      "\n",
      "--- Round 3 ---\n",
      "Computer chose: 10\n",
      "Sum = 10 + 8 = 18\n",
      "Fizz\n",
      "\n",
      "--- Round 4 ---\n",
      "Computer chose: 7\n",
      "Sum = 7 + 7 = 14\n",
      "14\n"
     ]
    }
   ],
   "source": [
    "import random\n",
    "\n",
    "rounds = 4  \n",
    "\n",
    "for i in range(1, rounds + 1):\n",
    "    print(f\"\\n--- Round {i} ---\")\n",
    "    \n",
    "    \n",
    "\n",
    "    comp_num = random.randint(1, 20)\n",
    "    print(\"Computer chose:\", comp_num)\n",
    "\n",
    "    user_input = input(\"Enter your number: \")\n",
    "\n",
    "    if user_input.isnumeric():\n",
    "        user_num = int(user_input)\n",
    "\n",
    "        total = comp_num + user_num\n",
    "        print(f\"Sum = {comp_num} + {user_num} = {total}\")\n",
    "\n",
    "        if total % 3 == 0 and total % 5 == 0:\n",
    "            print(\"FizzBuzz\")\n",
    "        elif total % 3 == 0:\n",
    "            print(\"Fizz\")\n",
    "        elif total % 5 == 0:\n",
    "            print(\"Buzz\")\n",
    "        else:\n",
    "            print(total)\n",
    "\n",
    "    else:\n",
    "        print(\"Invalid input, please enter a number.\")\n"
   ]
  }
 ],
 "metadata": {
  "kernelspec": {
   "display_name": "base",
   "language": "python",
   "name": "python3"
  },
  "language_info": {
   "codemirror_mode": {
    "name": "ipython",
    "version": 3
   },
   "file_extension": ".py",
   "mimetype": "text/x-python",
   "name": "python",
   "nbconvert_exporter": "python",
   "pygments_lexer": "ipython3",
   "version": "3.13.5"
  }
 },
 "nbformat": 4,
 "nbformat_minor": 5
}
